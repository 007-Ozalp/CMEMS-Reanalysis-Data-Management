{
 "cells": [
  {
   "cell_type": "code",
   "execution_count": 1,
   "id": "42090b8e-b268-4c04-aad0-0b5aba6293e0",
   "metadata": {},
   "outputs": [],
   "source": [
    "import xarray as xr\n",
    "import pandas as pd\n",
    "import input_data_managemenet as pv\n"
   ]
  },
  {
   "cell_type": "code",
   "execution_count": 2,
   "id": "d3c0abf1-66f6-4dc6-bc77-5800df0e4e27",
   "metadata": {},
   "outputs": [],
   "source": [
    "ncRawDataFileName = \"CMEMS_SST.nc\"\n",
    "pv.areaPerimeter =pd.read_csv (\"area111.csv\")\n",
    "dataOutput = \"CMEMS_SST_clipped.nc\""
   ]
  },
  {
   "cell_type": "code",
   "execution_count": null,
   "id": "1d119ae7-c3f9-4991-8a32-9a5f88c3ab79",
   "metadata": {},
   "outputs": [
    {
     "name": "stdout",
     "output_type": "stream",
     "text": [
      "CMEMS SST Dimension: <xarray.Dataset>\n",
      "Dimensions:  (time: 12053, lat: 216, lon: 241)\n",
      "Coordinates:\n",
      "  * time     (time) datetime64[ns] 1987-01-01T12:00:00 ... 2019-12-31T12:00:00\n",
      "    depth    float32 ...\n",
      "  * lat      (lat) float32 37.02 37.06 37.1 37.15 ... 45.85 45.9 45.94 45.98\n",
      "  * lon      (lon) float32 12.0 12.04 12.08 12.12 ... 21.88 21.92 21.96 22.0\n",
      "Data variables:\n",
      "    thetao   (time, lat, lon) float32 ...\n",
      "Attributes:\n",
      "    Conventions:  CF-1.8\n",
      "Clipped Area Dimensions:            LON        LAT\n",
      "0    12.903055  43.924718\n",
      "1    12.818609  43.963191\n",
      "2    12.764718  43.970273\n",
      "3    12.753573  43.971000\n",
      "4    12.740555  43.972218\n",
      "..         ...        ...\n",
      "107  14.674445  45.182218\n",
      "108  14.724864  45.148609\n",
      "109  14.752782  45.135691\n",
      "110  14.800282  45.123055\n",
      "111  14.831527  45.115418\n",
      "\n",
      "[112 rows x 2 columns]\n",
      "Reseized Area: <xarray.Dataset>\n",
      "Dimensions:  (time: 12053, lat: 45, lon: 64)\n",
      "Coordinates:\n",
      "  * time     (time) datetime64[ns] 1987-01-01T12:00:00 ... 2019-12-31T12:00:00\n",
      "    depth    float32 ...\n",
      "  * lat      (lat) float32 43.94 43.98 44.02 44.06 ... 45.65 45.69 45.73 45.77\n",
      "  * lon      (lon) float32 12.17 12.21 12.25 12.29 ... 14.67 14.71 14.75 14.79\n",
      "Data variables:\n",
      "    thetao   (time, lat, lon) float32 ...\n",
      "Attributes:\n",
      "    Conventions:  CF-1.8\n",
      "saving to  CMEMS_SST_clipped.nc\n"
     ]
    }
   ],
   "source": [
    "rawData = xr.open_dataset(ncRawDataFileName)\n",
    "clippedData = pv.acClipDataOnRegion(rawData, pv.areaPerimeter,dataOutput)"
   ]
  },
  {
   "cell_type": "code",
   "execution_count": null,
   "id": "8f034ef1-84d0-4cbd-8093-94b33ac13337",
   "metadata": {},
   "outputs": [],
   "source": [
    "ncRawDataFileName1 = \"CMEMS_SST_clipped.nc\"\n",
    "annualMapsNcFile = \"CMEMS_SST_clipped_Annual_Mean.nc\""
   ]
  },
  {
   "cell_type": "code",
   "execution_count": null,
   "id": "57c5f0b1-851b-439a-bae8-7e70c121941d",
   "metadata": {},
   "outputs": [],
   "source": [
    "rawData1 = xr.open_dataset(ncRawDataFileName1)\n"
   ]
  },
  {
   "cell_type": "code",
   "execution_count": null,
   "id": "62e5cce5-822a-422a-a066-a1d3c54adc2e",
   "metadata": {},
   "outputs": [],
   "source": [
    "clippedDataAM = pv.acGenerate2DAnnualMeanMaps(rawData1, annualMapsNcFile)"
   ]
  },
  {
   "cell_type": "code",
   "execution_count": null,
   "id": "003d4d17-0c46-4461-82ba-0920c8ea982d",
   "metadata": {},
   "outputs": [],
   "source": [
    "winter_output= \"CMEMS_SST_2DWINTER_SEASON.nc\"\n",
    "summer_output=\"CMEMS_SST_2DSUMMER_SEASON.nc\""
   ]
  },
  {
   "cell_type": "code",
   "execution_count": null,
   "id": "d91a08f1-3a35-4057-a6bc-994a4c08abe3",
   "metadata": {},
   "outputs": [],
   "source": [
    "SeasonWinter = pv.acGenerate2DSeasonalWinter(rawData1,winter_output)"
   ]
  },
  {
   "cell_type": "code",
   "execution_count": null,
   "id": "9fadba32-7bcf-4ae6-bffa-23d26cb047e5",
   "metadata": {},
   "outputs": [],
   "source": [
    "SeasonWinter = pv.acGenerate2DSeasonalWinter(rawData1,winter_output)"
   ]
  },
  {
   "cell_type": "code",
   "execution_count": null,
   "id": "85dd33ec-066c-4503-972c-82f289b2cecf",
   "metadata": {},
   "outputs": [],
   "source": [
    "SeasonSummer = pv.acGenerate2DSeasonalSummer(rawData1,summer_output)"
   ]
  },
  {
   "cell_type": "code",
   "execution_count": 11,
   "id": "84055b3b-6a6c-4f8f-a86d-967718d267c6",
   "metadata": {},
   "outputs": [],
   "source": [
    "NcFile1Doutput = \"CMEMS_SST_clipped_1D_FIXED_DIM.nc\"\n"
   ]
  },
  {
   "cell_type": "code",
   "execution_count": 12,
   "id": "dae0e96a-a99b-4fab-b44d-b0ce2a5cedb3",
   "metadata": {},
   "outputs": [],
   "source": [
    "#clippedfix1=pv.acGenerate1DFixDim(rawData1,NcFile1Doutput)"
   ]
  },
  {
   "cell_type": "code",
   "execution_count": 13,
   "id": "07121eb0-bec5-4094-9d96-b46faf0d1a6a",
   "metadata": {},
   "outputs": [],
   "source": [
    "NcFile1DoutputCSV= \"CMEMS_SST_clipped_1D_FIXED_DIM.csv\""
   ]
  },
  {
   "cell_type": "code",
   "execution_count": 14,
   "id": "e082c0e8-fc4a-4377-bdcb-5d17897eea7c",
   "metadata": {},
   "outputs": [],
   "source": [
    "clippedData1Dcsv = pv.acGenerate1DFixDimCSV(NcFile1Doutput,NcFile1DoutputCSV)"
   ]
  },
  {
   "cell_type": "code",
   "execution_count": 15,
   "id": "9ffdd8e5-2e5a-4c79-b848-b6a249a848e5",
   "metadata": {},
   "outputs": [
    {
     "data": {
      "text/plain": [
       "1987-01-01 12:00:00    11.219072\n",
       "1987-01-02 12:00:00    11.174189\n",
       "1987-01-03 12:00:00    11.147052\n",
       "1987-01-04 12:00:00    11.088055\n",
       "1987-01-05 12:00:00    10.890902\n",
       "                         ...    \n",
       "2019-12-27 12:00:00    14.479774\n",
       "2019-12-28 12:00:00    14.412374\n",
       "2019-12-29 12:00:00    14.211684\n",
       "2019-12-30 12:00:00    14.015491\n",
       "2019-12-31 12:00:00    13.861705\n",
       "Length: 12053, dtype: float32"
      ]
     },
     "execution_count": 15,
     "metadata": {},
     "output_type": "execute_result"
    }
   ],
   "source": [
    "clippedData1Dcsv"
   ]
  },
  {
   "cell_type": "code",
   "execution_count": null,
   "id": "54503a27-917c-465d-b713-905545dbf599",
   "metadata": {},
   "outputs": [],
   "source": []
  },
  {
   "cell_type": "code",
   "execution_count": null,
   "id": "11ec51a4-6cb2-440a-939c-fa648c8b84c0",
   "metadata": {},
   "outputs": [],
   "source": []
  },
  {
   "cell_type": "code",
   "execution_count": null,
   "id": "3e374aa9-9704-4e39-bb80-d3af1a6ec3a3",
   "metadata": {},
   "outputs": [],
   "source": []
  }
 ],
 "metadata": {
  "kernelspec": {
   "display_name": "Python 3 (ipykernel)",
   "language": "python",
   "name": "python3"
  },
  "language_info": {
   "codemirror_mode": {
    "name": "ipython",
    "version": 3
   },
   "file_extension": ".py",
   "mimetype": "text/x-python",
   "name": "python",
   "nbconvert_exporter": "python",
   "pygments_lexer": "ipython3",
   "version": "3.8.11"
  }
 },
 "nbformat": 4,
 "nbformat_minor": 5
}
